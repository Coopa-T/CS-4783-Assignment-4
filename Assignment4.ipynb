{
  "cells": [
    {
      "cell_type": "markdown",
      "metadata": {
        "id": "Gas7JpTY7UqY"
      },
      "source": [
        "### Question 1"
      ]
    },
    {
      "cell_type": "code",
      "execution_count": 1,
      "metadata": {
        "id": "ivUMhZ9i7Uqb"
      },
      "outputs": [],
      "source": [
        "# Assignment 4\n",
        "import numpy as np\n",
        "import pandas as pd\n",
        "import matplotlib.pyplot as plt\n",
        "from collections import Counter\n",
        "from sklearn.metrics import accuracy_score\n",
        "from sklearn.neighbors import KNeighborsClassifier\n",
        "from sklearn.tree import DecisionTreeClassifier, plot_tree"
      ]
    },
    {
      "cell_type": "code",
      "execution_count": 2,
      "metadata": {
        "id": "qZufgWsB7Uqd"
      },
      "outputs": [],
      "source": [
        "# Import out data into variables and shows them in our code\n",
        "train=pd.read_excel('Asssignment4_Data.xlsx',sheet_name='Train')\n",
        "test=pd.read_excel('Asssignment4_Data.xlsx',sheet_name='Test')"
      ]
    },
    {
      "cell_type": "code",
      "execution_count": null,
      "metadata": {
        "id": "xrTTf0Sr7Uqe"
      },
      "outputs": [],
      "source": [
        "# Removing the House ID because it is not needed\n",
        "train.drop('House ID',axis=1,inplace=True)\n",
        "X_train=train.drop('Construction type',axis=1) ## feature matrix\n",
        "y_train=train['Construction type'] # target variable\n",
        "\n",
        "test.drop('House ID',axis=1,inplace=True)\n",
        "X_test=test.drop('Construction type',axis=1)\n",
        "y_test=test['Construction type']"
      ]
    },
    {
      "cell_type": "code",
      "execution_count": null,
      "metadata": {
        "id": "xMG2Sg_C7Uqg",
        "outputId": "9a2b3258-4d83-4ed3-8e55-b5aa31835205"
      },
      "outputs": [
        {
          "data": {
            "text/html": [
              "<div>\n",
              "<style scoped>\n",
              "    .dataframe tbody tr th:only-of-type {\n",
              "        vertical-align: middle;\n",
              "    }\n",
              "\n",
              "    .dataframe tbody tr th {\n",
              "        vertical-align: top;\n",
              "    }\n",
              "\n",
              "    .dataframe thead th {\n",
              "        text-align: right;\n",
              "    }\n",
              "</style>\n",
              "<table border=\"1\" class=\"dataframe\">\n",
              "  <thead>\n",
              "    <tr style=\"text-align: right;\">\n",
              "      <th></th>\n",
              "      <th>Local Price</th>\n",
              "      <th>Bathrooms</th>\n",
              "      <th>Land Area</th>\n",
              "      <th>Living area</th>\n",
              "      <th># Garages</th>\n",
              "      <th># Rooms</th>\n",
              "      <th># Bedrooms</th>\n",
              "      <th>Age of home</th>\n",
              "      <th>Construction type</th>\n",
              "    </tr>\n",
              "  </thead>\n",
              "  <tbody>\n",
              "    <tr>\n",
              "      <th>0</th>\n",
              "      <td>6.0931</td>\n",
              "      <td>1.5</td>\n",
              "      <td>6.7265</td>\n",
              "      <td>1.652</td>\n",
              "      <td>1.0</td>\n",
              "      <td>6</td>\n",
              "      <td>3</td>\n",
              "      <td>44</td>\n",
              "      <td>Apartment</td>\n",
              "    </tr>\n",
              "    <tr>\n",
              "      <th>1</th>\n",
              "      <td>8.3607</td>\n",
              "      <td>1.5</td>\n",
              "      <td>9.1500</td>\n",
              "      <td>1.777</td>\n",
              "      <td>2.0</td>\n",
              "      <td>8</td>\n",
              "      <td>4</td>\n",
              "      <td>48</td>\n",
              "      <td>House</td>\n",
              "    </tr>\n",
              "    <tr>\n",
              "      <th>2</th>\n",
              "      <td>8.1400</td>\n",
              "      <td>1.0</td>\n",
              "      <td>8.0000</td>\n",
              "      <td>1.504</td>\n",
              "      <td>2.0</td>\n",
              "      <td>7</td>\n",
              "      <td>3</td>\n",
              "      <td>3</td>\n",
              "      <td>House</td>\n",
              "    </tr>\n",
              "    <tr>\n",
              "      <th>3</th>\n",
              "      <td>9.1416</td>\n",
              "      <td>1.5</td>\n",
              "      <td>7.3262</td>\n",
              "      <td>1.831</td>\n",
              "      <td>1.5</td>\n",
              "      <td>8</td>\n",
              "      <td>4</td>\n",
              "      <td>31</td>\n",
              "      <td>Apartment</td>\n",
              "    </tr>\n",
              "    <tr>\n",
              "      <th>4</th>\n",
              "      <td>12.0000</td>\n",
              "      <td>1.5</td>\n",
              "      <td>5.0000</td>\n",
              "      <td>1.200</td>\n",
              "      <td>2.0</td>\n",
              "      <td>6</td>\n",
              "      <td>3</td>\n",
              "      <td>30</td>\n",
              "      <td>Apartment</td>\n",
              "    </tr>\n",
              "  </tbody>\n",
              "</table>\n",
              "</div>"
            ],
            "text/plain": [
              "   Local Price  Bathrooms  Land Area  Living area  # Garages  # Rooms  \\\n",
              "0       6.0931        1.5     6.7265        1.652        1.0        6   \n",
              "1       8.3607        1.5     9.1500        1.777        2.0        8   \n",
              "2       8.1400        1.0     8.0000        1.504        2.0        7   \n",
              "3       9.1416        1.5     7.3262        1.831        1.5        8   \n",
              "4      12.0000        1.5     5.0000        1.200        2.0        6   \n",
              "\n",
              "   # Bedrooms  Age of home Construction type  \n",
              "0           3           44         Apartment  \n",
              "1           4           48             House  \n",
              "2           3            3             House  \n",
              "3           4           31         Apartment  \n",
              "4           3           30         Apartment  "
            ]
          },
          "execution_count": 29,
          "metadata": {},
          "output_type": "execute_result"
        }
      ],
      "source": [
        "test"
      ]
    },
    {
      "cell_type": "markdown",
      "metadata": {
        "id": "bmpmjg3K7Uqi"
      },
      "source": [
        "#### 1."
      ]
    },
    {
      "cell_type": "code",
      "execution_count": 3,
      "metadata": {
        "id": "fgy3N4d47Uqi"
      },
      "outputs": [],
      "source": [
        "# Formula and data needed to solve Naive Bayes\n",
        "# P(Appartment|Garages=1) = P(Garages=1|Appartment)*P(Apartment)/P(Garages=1)\n",
        "# P(Appartment)= 7/20\n",
        "# P(Garages=1)= 9/20\n",
        "# P(Garage=1|Appartment)=3/7"
      ]
    },
    {
      "cell_type": "code",
      "execution_count": 6,
      "metadata": {
        "colab": {
          "base_uri": "https://localhost:8080/"
        },
        "id": "_MayoHm27Uqk",
        "outputId": "d1246636-8ddd-4a7c-b088-7818644e633d"
      },
      "outputs": [
        {
          "output_type": "execute_result",
          "data": {
            "text/plain": [
              "Index(['House ID', 'Local Price', 'Bathrooms', 'Land Area', 'Living area',\n",
              "       '# Garages', '# Rooms', '# Bedrooms', 'Age of home',\n",
              "       'Construction type'],\n",
              "      dtype='object')"
            ]
          },
          "metadata": {},
          "execution_count": 6
        }
      ],
      "source": [
        "# Columns for each feature\n",
        "train.columns"
      ]
    },
    {
      "cell_type": "code",
      "execution_count": 8,
      "metadata": {
        "colab": {
          "base_uri": "https://localhost:8080/"
        },
        "id": "Uk0bSyRb7Uql",
        "outputId": "03b10390-ace2-462d-af96-10aa4474398a"
      },
      "outputs": [
        {
          "output_type": "execute_result",
          "data": {
            "text/plain": [
              "Apartment    7\n",
              "House        7\n",
              "Condo        6\n",
              "Name: Construction type, dtype: int64"
            ]
          },
          "metadata": {},
          "execution_count": 8
        }
      ],
      "source": [
        "# Count for all Construction types in our data\n",
        "train[\"Construction type\"].value_counts()"
      ]
    },
    {
      "cell_type": "code",
      "execution_count": 9,
      "metadata": {
        "colab": {
          "base_uri": "https://localhost:8080/",
          "height": 299
        },
        "id": "I0RfyQgm7Uqn",
        "outputId": "235e6766-9ff3-427b-af81-289f8f09b853"
      },
      "outputs": [
        {
          "output_type": "execute_result",
          "data": {
            "text/plain": [
              "    House ID  Local Price  Bathrooms  Land Area  Living area  # Garages  \\\n",
              "2          3       4.5429        1.0      2.275        1.175        1.0   \n",
              "5          6       3.8910        1.0      4.455        0.988        1.0   \n",
              "6          7       5.8980        1.0      5.850        1.240        1.0   \n",
              "8          9      16.4202        2.5      9.800        3.420        2.0   \n",
              "13        14       5.9592        1.0      6.666        1.121        2.0   \n",
              "18        19       7.7841        1.5      7.102        1.376        1.0   \n",
              "\n",
              "    # Rooms  # Bedrooms  Age of home Construction type  \n",
              "2         6           3           40             Condo  \n",
              "5         6           3           56             Condo  \n",
              "6         7           3           51             Condo  \n",
              "8        10           5           42             Condo  \n",
              "13        6           3           32             Condo  \n",
              "18        6           3           17             Condo  "
            ],
            "text/html": [
              "\n",
              "  <div id=\"df-568b185c-d930-45cb-aca6-379885750849\">\n",
              "    <div class=\"colab-df-container\">\n",
              "      <div>\n",
              "<style scoped>\n",
              "    .dataframe tbody tr th:only-of-type {\n",
              "        vertical-align: middle;\n",
              "    }\n",
              "\n",
              "    .dataframe tbody tr th {\n",
              "        vertical-align: top;\n",
              "    }\n",
              "\n",
              "    .dataframe thead th {\n",
              "        text-align: right;\n",
              "    }\n",
              "</style>\n",
              "<table border=\"1\" class=\"dataframe\">\n",
              "  <thead>\n",
              "    <tr style=\"text-align: right;\">\n",
              "      <th></th>\n",
              "      <th>House ID</th>\n",
              "      <th>Local Price</th>\n",
              "      <th>Bathrooms</th>\n",
              "      <th>Land Area</th>\n",
              "      <th>Living area</th>\n",
              "      <th># Garages</th>\n",
              "      <th># Rooms</th>\n",
              "      <th># Bedrooms</th>\n",
              "      <th>Age of home</th>\n",
              "      <th>Construction type</th>\n",
              "    </tr>\n",
              "  </thead>\n",
              "  <tbody>\n",
              "    <tr>\n",
              "      <th>2</th>\n",
              "      <td>3</td>\n",
              "      <td>4.5429</td>\n",
              "      <td>1.0</td>\n",
              "      <td>2.275</td>\n",
              "      <td>1.175</td>\n",
              "      <td>1.0</td>\n",
              "      <td>6</td>\n",
              "      <td>3</td>\n",
              "      <td>40</td>\n",
              "      <td>Condo</td>\n",
              "    </tr>\n",
              "    <tr>\n",
              "      <th>5</th>\n",
              "      <td>6</td>\n",
              "      <td>3.8910</td>\n",
              "      <td>1.0</td>\n",
              "      <td>4.455</td>\n",
              "      <td>0.988</td>\n",
              "      <td>1.0</td>\n",
              "      <td>6</td>\n",
              "      <td>3</td>\n",
              "      <td>56</td>\n",
              "      <td>Condo</td>\n",
              "    </tr>\n",
              "    <tr>\n",
              "      <th>6</th>\n",
              "      <td>7</td>\n",
              "      <td>5.8980</td>\n",
              "      <td>1.0</td>\n",
              "      <td>5.850</td>\n",
              "      <td>1.240</td>\n",
              "      <td>1.0</td>\n",
              "      <td>7</td>\n",
              "      <td>3</td>\n",
              "      <td>51</td>\n",
              "      <td>Condo</td>\n",
              "    </tr>\n",
              "    <tr>\n",
              "      <th>8</th>\n",
              "      <td>9</td>\n",
              "      <td>16.4202</td>\n",
              "      <td>2.5</td>\n",
              "      <td>9.800</td>\n",
              "      <td>3.420</td>\n",
              "      <td>2.0</td>\n",
              "      <td>10</td>\n",
              "      <td>5</td>\n",
              "      <td>42</td>\n",
              "      <td>Condo</td>\n",
              "    </tr>\n",
              "    <tr>\n",
              "      <th>13</th>\n",
              "      <td>14</td>\n",
              "      <td>5.9592</td>\n",
              "      <td>1.0</td>\n",
              "      <td>6.666</td>\n",
              "      <td>1.121</td>\n",
              "      <td>2.0</td>\n",
              "      <td>6</td>\n",
              "      <td>3</td>\n",
              "      <td>32</td>\n",
              "      <td>Condo</td>\n",
              "    </tr>\n",
              "    <tr>\n",
              "      <th>18</th>\n",
              "      <td>19</td>\n",
              "      <td>7.7841</td>\n",
              "      <td>1.5</td>\n",
              "      <td>7.102</td>\n",
              "      <td>1.376</td>\n",
              "      <td>1.0</td>\n",
              "      <td>6</td>\n",
              "      <td>3</td>\n",
              "      <td>17</td>\n",
              "      <td>Condo</td>\n",
              "    </tr>\n",
              "  </tbody>\n",
              "</table>\n",
              "</div>\n",
              "      <button class=\"colab-df-convert\" onclick=\"convertToInteractive('df-568b185c-d930-45cb-aca6-379885750849')\"\n",
              "              title=\"Convert this dataframe to an interactive table.\"\n",
              "              style=\"display:none;\">\n",
              "        \n",
              "  <svg xmlns=\"http://www.w3.org/2000/svg\" height=\"24px\"viewBox=\"0 0 24 24\"\n",
              "       width=\"24px\">\n",
              "    <path d=\"M0 0h24v24H0V0z\" fill=\"none\"/>\n",
              "    <path d=\"M18.56 5.44l.94 2.06.94-2.06 2.06-.94-2.06-.94-.94-2.06-.94 2.06-2.06.94zm-11 1L8.5 8.5l.94-2.06 2.06-.94-2.06-.94L8.5 2.5l-.94 2.06-2.06.94zm10 10l.94 2.06.94-2.06 2.06-.94-2.06-.94-.94-2.06-.94 2.06-2.06.94z\"/><path d=\"M17.41 7.96l-1.37-1.37c-.4-.4-.92-.59-1.43-.59-.52 0-1.04.2-1.43.59L10.3 9.45l-7.72 7.72c-.78.78-.78 2.05 0 2.83L4 21.41c.39.39.9.59 1.41.59.51 0 1.02-.2 1.41-.59l7.78-7.78 2.81-2.81c.8-.78.8-2.07 0-2.86zM5.41 20L4 18.59l7.72-7.72 1.47 1.35L5.41 20z\"/>\n",
              "  </svg>\n",
              "      </button>\n",
              "      \n",
              "  <style>\n",
              "    .colab-df-container {\n",
              "      display:flex;\n",
              "      flex-wrap:wrap;\n",
              "      gap: 12px;\n",
              "    }\n",
              "\n",
              "    .colab-df-convert {\n",
              "      background-color: #E8F0FE;\n",
              "      border: none;\n",
              "      border-radius: 50%;\n",
              "      cursor: pointer;\n",
              "      display: none;\n",
              "      fill: #1967D2;\n",
              "      height: 32px;\n",
              "      padding: 0 0 0 0;\n",
              "      width: 32px;\n",
              "    }\n",
              "\n",
              "    .colab-df-convert:hover {\n",
              "      background-color: #E2EBFA;\n",
              "      box-shadow: 0px 1px 2px rgba(60, 64, 67, 0.3), 0px 1px 3px 1px rgba(60, 64, 67, 0.15);\n",
              "      fill: #174EA6;\n",
              "    }\n",
              "\n",
              "    [theme=dark] .colab-df-convert {\n",
              "      background-color: #3B4455;\n",
              "      fill: #D2E3FC;\n",
              "    }\n",
              "\n",
              "    [theme=dark] .colab-df-convert:hover {\n",
              "      background-color: #434B5C;\n",
              "      box-shadow: 0px 1px 3px 1px rgba(0, 0, 0, 0.15);\n",
              "      filter: drop-shadow(0px 1px 2px rgba(0, 0, 0, 0.3));\n",
              "      fill: #FFFFFF;\n",
              "    }\n",
              "  </style>\n",
              "\n",
              "      <script>\n",
              "        const buttonEl =\n",
              "          document.querySelector('#df-568b185c-d930-45cb-aca6-379885750849 button.colab-df-convert');\n",
              "        buttonEl.style.display =\n",
              "          google.colab.kernel.accessAllowed ? 'block' : 'none';\n",
              "\n",
              "        async function convertToInteractive(key) {\n",
              "          const element = document.querySelector('#df-568b185c-d930-45cb-aca6-379885750849');\n",
              "          const dataTable =\n",
              "            await google.colab.kernel.invokeFunction('convertToInteractive',\n",
              "                                                     [key], {});\n",
              "          if (!dataTable) return;\n",
              "\n",
              "          const docLinkHtml = 'Like what you see? Visit the ' +\n",
              "            '<a target=\"_blank\" href=https://colab.research.google.com/notebooks/data_table.ipynb>data table notebook</a>'\n",
              "            + ' to learn more about interactive tables.';\n",
              "          element.innerHTML = '';\n",
              "          dataTable['output_type'] = 'display_data';\n",
              "          await google.colab.output.renderOutput(dataTable, element);\n",
              "          const docLink = document.createElement('div');\n",
              "          docLink.innerHTML = docLinkHtml;\n",
              "          element.appendChild(docLink);\n",
              "        }\n",
              "      </script>\n",
              "    </div>\n",
              "  </div>\n",
              "  "
            ]
          },
          "metadata": {},
          "execution_count": 9
        }
      ],
      "source": [
        "# All features of our data with only the Condo Construction type\n",
        "train[train[\"Construction type\"]=='Condo']"
      ]
    },
    {
      "cell_type": "code",
      "execution_count": 10,
      "metadata": {
        "id": "dOJ0_xv37Uqo"
      },
      "outputs": [],
      "source": [
        "# Probability of the data's Construction type\n",
        "# P(Appartment)=7/20\n",
        "# P(House)=7/20\n",
        "# P(Condo) = 6/20"
      ]
    },
    {
      "cell_type": "code",
      "execution_count": 12,
      "metadata": {
        "id": "NNGmvz-K7Uqp"
      },
      "outputs": [],
      "source": [
        "# Feature Garages\n",
        "# P(Garages=0|CT=Appartment)= 1/7\n",
        "# P(Garages=1|CT=Appartment)= 3/7\n",
        "# P(Garages=1.5|CT=Appartment)= 1/7\n",
        "# P(Garages=2|CT=Appartment)= 2/7\n",
        "\n",
        "# P(Garages=0|CT=House)= 2/7\n",
        "# P(Garages=1|CT=House)= 2/7\n",
        "# P(Garages=1.5|CT=House)= 1/7\n",
        "# P(Garages=2|CT=House)= 2/7\n",
        "\n",
        "# P(Garages=0|CT=Condo)= 0/6\n",
        "# P(Garages=1|CT=Condo)= 4/6\n",
        "# P(Garages=1.5|CT=Condo)= 0/6\n",
        "# P(Garages=2|CT=Condo)= 2/6\n"
      ]
    },
    {
      "cell_type": "code",
      "execution_count": 11,
      "metadata": {
        "id": "03UHW_so7Uqq"
      },
      "outputs": [],
      "source": [
        "# Feature Bathrooms\n",
        "# P(Bathrooms=1|CT=Appartment)= 5/7\n",
        "# P(Bathrooms=1.5|CT=Appartment)= 1/7\n",
        "# P(Bathrooms=2.5|CT=Appartment)= 1/7\n",
        "\n",
        "# P(Bathrooms=1|CT=House)= 6/7\n",
        "# P(Bathrooms=1.5|CT=House)= 1/7\n",
        "# P(Bathrooms=2.5|CT=House)= 0/7\n",
        "\n",
        "# P(Bathrooms=1|CT=Condo)= 4/6\n",
        "# P(Bathrooms=1.5|CT=Condo)= 1/6\n",
        "# P(Bathrooms=2.5|CT=Condo)= 1/6"
      ]
    },
    {
      "cell_type": "code",
      "execution_count": 15,
      "metadata": {
        "colab": {
          "base_uri": "https://localhost:8080/"
        },
        "id": "SvQt1GKX7Uqt",
        "outputId": "bc64c162-e763-4b67-eb42-8b1261d8c5f7"
      },
      "outputs": [
        {
          "output_type": "execute_result",
          "data": {
            "text/plain": [
              "0.3333333333333333"
            ]
          },
          "metadata": {},
          "execution_count": 15
        }
      ],
      "source": [
        "# P(Apartment|Garages) = ( P(Garages|Apartment) * P(Apartment) ) / P(Garages = 3)\n",
        "# P(Apartment) = 7/20\n",
        "# P(Garages) = 9/20\n",
        "# P(Garage=1|Apartment) = 3/7\n",
        "P_A_G1 = ( (3/7)*(7/20) ) / (9/20)\n",
        "P_A_G1"
      ]
    },
    {
      "cell_type": "code",
      "execution_count": 14,
      "metadata": {
        "colab": {
          "base_uri": "https://localhost:8080/"
        },
        "id": "IGcL8bsn7Uqu",
        "outputId": "51e03893-8730-4aad-a827-41f4e3e12f16"
      },
      "outputs": [
        {
          "output_type": "execute_result",
          "data": {
            "text/plain": [
              "0.49999999999999994"
            ]
          },
          "metadata": {},
          "execution_count": 14
        }
      ],
      "source": [
        "# P(Appartment|Rooms=5) = P(Rooms=5|Appartment)*P(Apartment)/P(Rooms=5)\n",
        "# P(Appartment)= 7/20\n",
        "# P(Rooms=5)= 2/20\n",
        "# P(Rooms=5|Appartment)=1/7\n",
        "P_A_R5 = ((1/7)*(7/20))/(2/20)\n",
        "P_A_R5"
      ]
    },
    {
      "cell_type": "code",
      "execution_count": 16,
      "metadata": {
        "colab": {
          "base_uri": "https://localhost:8080/",
          "height": 330
        },
        "id": "Us-oaqyQ7Uqv",
        "outputId": "4f4e515f-2c76-4d24-ee22-12052866a9ae"
      },
      "outputs": [
        {
          "output_type": "execute_result",
          "data": {
            "text/plain": [
              "    House ID  Local Price  Bathrooms  Land Area  Living area  # Garages  \\\n",
              "0          1       4.9176        1.0      3.472        0.998        1.0   \n",
              "3          4       4.5573        1.0      4.050        1.232        1.0   \n",
              "4          5       5.0597        1.0      4.455        1.121        1.0   \n",
              "9         10      14.4598        2.5     12.800        3.000        2.0   \n",
              "14        15       5.0500        1.0      5.000        1.020        0.0   \n",
              "16        17       8.2464        1.5      5.150        1.664        2.0   \n",
              "19        20       9.0384        1.0      7.800        1.500        1.5   \n",
              "\n",
              "    # Rooms  # Bedrooms  Age of home Construction type  \n",
              "0         7           4           42         Apartment  \n",
              "3         6           3           54         Apartment  \n",
              "4         6           3           42         Apartment  \n",
              "9         9           5           14         Apartment  \n",
              "14        5           2           46         Apartment  \n",
              "16        8           4           50         Apartment  \n",
              "19        7           3           23         Apartment  "
            ],
            "text/html": [
              "\n",
              "  <div id=\"df-d406825c-e0d1-4ccd-b413-115793be306e\">\n",
              "    <div class=\"colab-df-container\">\n",
              "      <div>\n",
              "<style scoped>\n",
              "    .dataframe tbody tr th:only-of-type {\n",
              "        vertical-align: middle;\n",
              "    }\n",
              "\n",
              "    .dataframe tbody tr th {\n",
              "        vertical-align: top;\n",
              "    }\n",
              "\n",
              "    .dataframe thead th {\n",
              "        text-align: right;\n",
              "    }\n",
              "</style>\n",
              "<table border=\"1\" class=\"dataframe\">\n",
              "  <thead>\n",
              "    <tr style=\"text-align: right;\">\n",
              "      <th></th>\n",
              "      <th>House ID</th>\n",
              "      <th>Local Price</th>\n",
              "      <th>Bathrooms</th>\n",
              "      <th>Land Area</th>\n",
              "      <th>Living area</th>\n",
              "      <th># Garages</th>\n",
              "      <th># Rooms</th>\n",
              "      <th># Bedrooms</th>\n",
              "      <th>Age of home</th>\n",
              "      <th>Construction type</th>\n",
              "    </tr>\n",
              "  </thead>\n",
              "  <tbody>\n",
              "    <tr>\n",
              "      <th>0</th>\n",
              "      <td>1</td>\n",
              "      <td>4.9176</td>\n",
              "      <td>1.0</td>\n",
              "      <td>3.472</td>\n",
              "      <td>0.998</td>\n",
              "      <td>1.0</td>\n",
              "      <td>7</td>\n",
              "      <td>4</td>\n",
              "      <td>42</td>\n",
              "      <td>Apartment</td>\n",
              "    </tr>\n",
              "    <tr>\n",
              "      <th>3</th>\n",
              "      <td>4</td>\n",
              "      <td>4.5573</td>\n",
              "      <td>1.0</td>\n",
              "      <td>4.050</td>\n",
              "      <td>1.232</td>\n",
              "      <td>1.0</td>\n",
              "      <td>6</td>\n",
              "      <td>3</td>\n",
              "      <td>54</td>\n",
              "      <td>Apartment</td>\n",
              "    </tr>\n",
              "    <tr>\n",
              "      <th>4</th>\n",
              "      <td>5</td>\n",
              "      <td>5.0597</td>\n",
              "      <td>1.0</td>\n",
              "      <td>4.455</td>\n",
              "      <td>1.121</td>\n",
              "      <td>1.0</td>\n",
              "      <td>6</td>\n",
              "      <td>3</td>\n",
              "      <td>42</td>\n",
              "      <td>Apartment</td>\n",
              "    </tr>\n",
              "    <tr>\n",
              "      <th>9</th>\n",
              "      <td>10</td>\n",
              "      <td>14.4598</td>\n",
              "      <td>2.5</td>\n",
              "      <td>12.800</td>\n",
              "      <td>3.000</td>\n",
              "      <td>2.0</td>\n",
              "      <td>9</td>\n",
              "      <td>5</td>\n",
              "      <td>14</td>\n",
              "      <td>Apartment</td>\n",
              "    </tr>\n",
              "    <tr>\n",
              "      <th>14</th>\n",
              "      <td>15</td>\n",
              "      <td>5.0500</td>\n",
              "      <td>1.0</td>\n",
              "      <td>5.000</td>\n",
              "      <td>1.020</td>\n",
              "      <td>0.0</td>\n",
              "      <td>5</td>\n",
              "      <td>2</td>\n",
              "      <td>46</td>\n",
              "      <td>Apartment</td>\n",
              "    </tr>\n",
              "    <tr>\n",
              "      <th>16</th>\n",
              "      <td>17</td>\n",
              "      <td>8.2464</td>\n",
              "      <td>1.5</td>\n",
              "      <td>5.150</td>\n",
              "      <td>1.664</td>\n",
              "      <td>2.0</td>\n",
              "      <td>8</td>\n",
              "      <td>4</td>\n",
              "      <td>50</td>\n",
              "      <td>Apartment</td>\n",
              "    </tr>\n",
              "    <tr>\n",
              "      <th>19</th>\n",
              "      <td>20</td>\n",
              "      <td>9.0384</td>\n",
              "      <td>1.0</td>\n",
              "      <td>7.800</td>\n",
              "      <td>1.500</td>\n",
              "      <td>1.5</td>\n",
              "      <td>7</td>\n",
              "      <td>3</td>\n",
              "      <td>23</td>\n",
              "      <td>Apartment</td>\n",
              "    </tr>\n",
              "  </tbody>\n",
              "</table>\n",
              "</div>\n",
              "      <button class=\"colab-df-convert\" onclick=\"convertToInteractive('df-d406825c-e0d1-4ccd-b413-115793be306e')\"\n",
              "              title=\"Convert this dataframe to an interactive table.\"\n",
              "              style=\"display:none;\">\n",
              "        \n",
              "  <svg xmlns=\"http://www.w3.org/2000/svg\" height=\"24px\"viewBox=\"0 0 24 24\"\n",
              "       width=\"24px\">\n",
              "    <path d=\"M0 0h24v24H0V0z\" fill=\"none\"/>\n",
              "    <path d=\"M18.56 5.44l.94 2.06.94-2.06 2.06-.94-2.06-.94-.94-2.06-.94 2.06-2.06.94zm-11 1L8.5 8.5l.94-2.06 2.06-.94-2.06-.94L8.5 2.5l-.94 2.06-2.06.94zm10 10l.94 2.06.94-2.06 2.06-.94-2.06-.94-.94-2.06-.94 2.06-2.06.94z\"/><path d=\"M17.41 7.96l-1.37-1.37c-.4-.4-.92-.59-1.43-.59-.52 0-1.04.2-1.43.59L10.3 9.45l-7.72 7.72c-.78.78-.78 2.05 0 2.83L4 21.41c.39.39.9.59 1.41.59.51 0 1.02-.2 1.41-.59l7.78-7.78 2.81-2.81c.8-.78.8-2.07 0-2.86zM5.41 20L4 18.59l7.72-7.72 1.47 1.35L5.41 20z\"/>\n",
              "  </svg>\n",
              "      </button>\n",
              "      \n",
              "  <style>\n",
              "    .colab-df-container {\n",
              "      display:flex;\n",
              "      flex-wrap:wrap;\n",
              "      gap: 12px;\n",
              "    }\n",
              "\n",
              "    .colab-df-convert {\n",
              "      background-color: #E8F0FE;\n",
              "      border: none;\n",
              "      border-radius: 50%;\n",
              "      cursor: pointer;\n",
              "      display: none;\n",
              "      fill: #1967D2;\n",
              "      height: 32px;\n",
              "      padding: 0 0 0 0;\n",
              "      width: 32px;\n",
              "    }\n",
              "\n",
              "    .colab-df-convert:hover {\n",
              "      background-color: #E2EBFA;\n",
              "      box-shadow: 0px 1px 2px rgba(60, 64, 67, 0.3), 0px 1px 3px 1px rgba(60, 64, 67, 0.15);\n",
              "      fill: #174EA6;\n",
              "    }\n",
              "\n",
              "    [theme=dark] .colab-df-convert {\n",
              "      background-color: #3B4455;\n",
              "      fill: #D2E3FC;\n",
              "    }\n",
              "\n",
              "    [theme=dark] .colab-df-convert:hover {\n",
              "      background-color: #434B5C;\n",
              "      box-shadow: 0px 1px 3px 1px rgba(0, 0, 0, 0.15);\n",
              "      filter: drop-shadow(0px 1px 2px rgba(0, 0, 0, 0.3));\n",
              "      fill: #FFFFFF;\n",
              "    }\n",
              "  </style>\n",
              "\n",
              "      <script>\n",
              "        const buttonEl =\n",
              "          document.querySelector('#df-d406825c-e0d1-4ccd-b413-115793be306e button.colab-df-convert');\n",
              "        buttonEl.style.display =\n",
              "          google.colab.kernel.accessAllowed ? 'block' : 'none';\n",
              "\n",
              "        async function convertToInteractive(key) {\n",
              "          const element = document.querySelector('#df-d406825c-e0d1-4ccd-b413-115793be306e');\n",
              "          const dataTable =\n",
              "            await google.colab.kernel.invokeFunction('convertToInteractive',\n",
              "                                                     [key], {});\n",
              "          if (!dataTable) return;\n",
              "\n",
              "          const docLinkHtml = 'Like what you see? Visit the ' +\n",
              "            '<a target=\"_blank\" href=https://colab.research.google.com/notebooks/data_table.ipynb>data table notebook</a>'\n",
              "            + ' to learn more about interactive tables.';\n",
              "          element.innerHTML = '';\n",
              "          dataTable['output_type'] = 'display_data';\n",
              "          await google.colab.output.renderOutput(dataTable, element);\n",
              "          const docLink = document.createElement('div');\n",
              "          docLink.innerHTML = docLinkHtml;\n",
              "          element.appendChild(docLink);\n",
              "        }\n",
              "      </script>\n",
              "    </div>\n",
              "  </div>\n",
              "  "
            ]
          },
          "metadata": {},
          "execution_count": 16
        }
      ],
      "source": [
        "# All features of our data with only the Apartment Construction type\n",
        "train[train['Construction type']=='Apartment']"
      ]
    },
    {
      "cell_type": "markdown",
      "metadata": {
        "id": "7gCVTmya7Uqw"
      },
      "source": [
        "#### 2"
      ]
    },
    {
      "cell_type": "code",
      "execution_count": 17,
      "metadata": {
        "id": "yQBG3lYX7Uqw"
      },
      "outputs": [],
      "source": [
        "# P(Appartment)=7/20\n",
        "# P(House)=7/20\n",
        "# P(Condo) = 6/20"
      ]
    },
    {
      "cell_type": "code",
      "execution_count": 18,
      "metadata": {
        "id": "-Aq1nw-l7Uqx"
      },
      "outputs": [],
      "source": [
        "# Feature Garages\n",
        "# P(Garages=0|CT=Appartment)= 1/7\n",
        "# P(Garages=1|CT=Appartment)= 3/7\n",
        "# P(Garages=1.5|CT=Appartment)= 1/7\n",
        "# P(Garages=2|CT=Appartment)= 2/7\n",
        "\n",
        "# P(Garages=0|CT=House)= 2/7\n",
        "# P(Garages=1|CT=House)= 2/7\n",
        "# P(Garages=1.5|CT=House)= 1/7\n",
        "# P(Garages=2|CT=House)= 2/7\n",
        "\n",
        "# P(Garages=0|CT=Condo)= 0/6\n",
        "# P(Garages=1|CT=Condo)= 4/6\n",
        "# P(Garages=1.5|CT=Condo)= 0/6\n",
        "# P(Garages=2|CT=Condo)= 2/6"
      ]
    },
    {
      "cell_type": "code",
      "execution_count": 19,
      "metadata": {
        "id": "gm0CIY0c7Uqx"
      },
      "outputs": [],
      "source": [
        "# Feature Bathrooms\n",
        "# P(Bathrooms=1|CT=Appartment)= 5/7\n",
        "# P(Bathrooms=1.5|CT=Appartment)= 1/7\n",
        "# P(Bathrooms=2.5|CT=Appartment)= 1/7\n",
        "\n",
        "# P(Bathrooms=1|CT=House)= 6/7\n",
        "# P(Bathrooms=1.5|CT=House)= 1/7\n",
        "# P(Bathrooms=2.5|CT=House)= 0/7\n",
        "\n",
        "# P(Bathrooms=1|CT=Condo)= 4/6\n",
        "# P(Bathrooms=1.5|CT=Condo)= 1/6\n",
        "# P(Bathrooms=2.5|CT=Condo)= 1/6"
      ]
    },
    {
      "cell_type": "code",
      "execution_count": 20,
      "metadata": {
        "colab": {
          "base_uri": "https://localhost:8080/",
          "height": 206
        },
        "id": "0Yn6LpsB7Uqy",
        "outputId": "545e4b1a-3e89-49aa-c33b-a7790901937a"
      },
      "outputs": [
        {
          "output_type": "execute_result",
          "data": {
            "text/plain": [
              "   Bathrooms  # Garages\n",
              "0        1.5        1.0\n",
              "1        1.5        2.0\n",
              "2        1.0        2.0\n",
              "3        1.5        1.5\n",
              "4        1.5        2.0"
            ],
            "text/html": [
              "\n",
              "  <div id=\"df-e5ea5f77-1059-437c-a6bb-68e6efbc00c3\">\n",
              "    <div class=\"colab-df-container\">\n",
              "      <div>\n",
              "<style scoped>\n",
              "    .dataframe tbody tr th:only-of-type {\n",
              "        vertical-align: middle;\n",
              "    }\n",
              "\n",
              "    .dataframe tbody tr th {\n",
              "        vertical-align: top;\n",
              "    }\n",
              "\n",
              "    .dataframe thead th {\n",
              "        text-align: right;\n",
              "    }\n",
              "</style>\n",
              "<table border=\"1\" class=\"dataframe\">\n",
              "  <thead>\n",
              "    <tr style=\"text-align: right;\">\n",
              "      <th></th>\n",
              "      <th>Bathrooms</th>\n",
              "      <th># Garages</th>\n",
              "    </tr>\n",
              "  </thead>\n",
              "  <tbody>\n",
              "    <tr>\n",
              "      <th>0</th>\n",
              "      <td>1.5</td>\n",
              "      <td>1.0</td>\n",
              "    </tr>\n",
              "    <tr>\n",
              "      <th>1</th>\n",
              "      <td>1.5</td>\n",
              "      <td>2.0</td>\n",
              "    </tr>\n",
              "    <tr>\n",
              "      <th>2</th>\n",
              "      <td>1.0</td>\n",
              "      <td>2.0</td>\n",
              "    </tr>\n",
              "    <tr>\n",
              "      <th>3</th>\n",
              "      <td>1.5</td>\n",
              "      <td>1.5</td>\n",
              "    </tr>\n",
              "    <tr>\n",
              "      <th>4</th>\n",
              "      <td>1.5</td>\n",
              "      <td>2.0</td>\n",
              "    </tr>\n",
              "  </tbody>\n",
              "</table>\n",
              "</div>\n",
              "      <button class=\"colab-df-convert\" onclick=\"convertToInteractive('df-e5ea5f77-1059-437c-a6bb-68e6efbc00c3')\"\n",
              "              title=\"Convert this dataframe to an interactive table.\"\n",
              "              style=\"display:none;\">\n",
              "        \n",
              "  <svg xmlns=\"http://www.w3.org/2000/svg\" height=\"24px\"viewBox=\"0 0 24 24\"\n",
              "       width=\"24px\">\n",
              "    <path d=\"M0 0h24v24H0V0z\" fill=\"none\"/>\n",
              "    <path d=\"M18.56 5.44l.94 2.06.94-2.06 2.06-.94-2.06-.94-.94-2.06-.94 2.06-2.06.94zm-11 1L8.5 8.5l.94-2.06 2.06-.94-2.06-.94L8.5 2.5l-.94 2.06-2.06.94zm10 10l.94 2.06.94-2.06 2.06-.94-2.06-.94-.94-2.06-.94 2.06-2.06.94z\"/><path d=\"M17.41 7.96l-1.37-1.37c-.4-.4-.92-.59-1.43-.59-.52 0-1.04.2-1.43.59L10.3 9.45l-7.72 7.72c-.78.78-.78 2.05 0 2.83L4 21.41c.39.39.9.59 1.41.59.51 0 1.02-.2 1.41-.59l7.78-7.78 2.81-2.81c.8-.78.8-2.07 0-2.86zM5.41 20L4 18.59l7.72-7.72 1.47 1.35L5.41 20z\"/>\n",
              "  </svg>\n",
              "      </button>\n",
              "      \n",
              "  <style>\n",
              "    .colab-df-container {\n",
              "      display:flex;\n",
              "      flex-wrap:wrap;\n",
              "      gap: 12px;\n",
              "    }\n",
              "\n",
              "    .colab-df-convert {\n",
              "      background-color: #E8F0FE;\n",
              "      border: none;\n",
              "      border-radius: 50%;\n",
              "      cursor: pointer;\n",
              "      display: none;\n",
              "      fill: #1967D2;\n",
              "      height: 32px;\n",
              "      padding: 0 0 0 0;\n",
              "      width: 32px;\n",
              "    }\n",
              "\n",
              "    .colab-df-convert:hover {\n",
              "      background-color: #E2EBFA;\n",
              "      box-shadow: 0px 1px 2px rgba(60, 64, 67, 0.3), 0px 1px 3px 1px rgba(60, 64, 67, 0.15);\n",
              "      fill: #174EA6;\n",
              "    }\n",
              "\n",
              "    [theme=dark] .colab-df-convert {\n",
              "      background-color: #3B4455;\n",
              "      fill: #D2E3FC;\n",
              "    }\n",
              "\n",
              "    [theme=dark] .colab-df-convert:hover {\n",
              "      background-color: #434B5C;\n",
              "      box-shadow: 0px 1px 3px 1px rgba(0, 0, 0, 0.15);\n",
              "      filter: drop-shadow(0px 1px 2px rgba(0, 0, 0, 0.3));\n",
              "      fill: #FFFFFF;\n",
              "    }\n",
              "  </style>\n",
              "\n",
              "      <script>\n",
              "        const buttonEl =\n",
              "          document.querySelector('#df-e5ea5f77-1059-437c-a6bb-68e6efbc00c3 button.colab-df-convert');\n",
              "        buttonEl.style.display =\n",
              "          google.colab.kernel.accessAllowed ? 'block' : 'none';\n",
              "\n",
              "        async function convertToInteractive(key) {\n",
              "          const element = document.querySelector('#df-e5ea5f77-1059-437c-a6bb-68e6efbc00c3');\n",
              "          const dataTable =\n",
              "            await google.colab.kernel.invokeFunction('convertToInteractive',\n",
              "                                                     [key], {});\n",
              "          if (!dataTable) return;\n",
              "\n",
              "          const docLinkHtml = 'Like what you see? Visit the ' +\n",
              "            '<a target=\"_blank\" href=https://colab.research.google.com/notebooks/data_table.ipynb>data table notebook</a>'\n",
              "            + ' to learn more about interactive tables.';\n",
              "          element.innerHTML = '';\n",
              "          dataTable['output_type'] = 'display_data';\n",
              "          await google.colab.output.renderOutput(dataTable, element);\n",
              "          const docLink = document.createElement('div');\n",
              "          docLink.innerHTML = docLinkHtml;\n",
              "          element.appendChild(docLink);\n",
              "        }\n",
              "      </script>\n",
              "    </div>\n",
              "  </div>\n",
              "  "
            ]
          },
          "metadata": {},
          "execution_count": 20
        }
      ],
      "source": [
        "# Number of Bathrooms and Garages in our test data\n",
        "test[['Bathrooms','# Garages']]"
      ]
    },
    {
      "cell_type": "code",
      "execution_count": 21,
      "metadata": {
        "colab": {
          "base_uri": "https://localhost:8080/"
        },
        "id": "9uPNnWnS7Uqz",
        "outputId": "aa68f4c3-1a26-429f-fb3a-6762610a846d"
      },
      "outputs": [
        {
          "output_type": "stream",
          "name": "stdout",
          "text": [
            "Bathrooms    1.5\n",
            "# Garages    1.0\n",
            "Name: 0, dtype: float64\n",
            "0.021428571428571425 0.014285714285714284 0.03333333333333333\n",
            "First sample: Condo \n"
          ]
        }
      ],
      "source": [
        "# For the first sample in the test set\n",
        "print(test[['Bathrooms','# Garages']].iloc[0])\n",
        "P_Apartment_X = (1/7)*(3/7)*(7/20)\n",
        "P_House_X= (1/7)*(2/7)*(7/20)\n",
        "P_Condo_X = (1/6)*(4/6)*(6/20)\n",
        "print(P_Apartment_X,P_House_X,P_Condo_X)\n",
        "print('First sample: Condo ')"
      ]
    },
    {
      "cell_type": "code",
      "execution_count": 22,
      "metadata": {
        "colab": {
          "base_uri": "https://localhost:8080/"
        },
        "id": "VqIZwH4w7Uq0",
        "outputId": "af1ea74c-de48-4ff5-843a-b76b0d44e8ea"
      },
      "outputs": [
        {
          "output_type": "stream",
          "name": "stdout",
          "text": [
            "Bathrooms    1.5\n",
            "# Garages    2.0\n",
            "Name: 1, dtype: float64\n",
            "0.014285714285714284 0.014285714285714284 0.016666666666666666\n",
            "Second sample: Condo \n"
          ]
        }
      ],
      "source": [
        "# For the second sample in the test set\n",
        "print(test[['Bathrooms','# Garages']].iloc[1])\n",
        "P_Apartment_X = (1/7)*(2/7)*(7/20)\n",
        "P_House_X= (1/7)*(2/7)*(7/20)\n",
        "P_Condo_X = (1/6)*(2/6)*(6/20)\n",
        "print(P_Apartment_X,P_House_X,P_Condo_X)\n",
        "print('Second sample: Condo ')"
      ]
    },
    {
      "cell_type": "code",
      "execution_count": 23,
      "metadata": {
        "colab": {
          "base_uri": "https://localhost:8080/"
        },
        "id": "MgKrIE877Uq0",
        "outputId": "25e1058b-d821-42b1-e956-9ce6f7fe0b24"
      },
      "outputs": [
        {
          "output_type": "stream",
          "name": "stdout",
          "text": [
            "Bathrooms    1.0\n",
            "# Garages    2.0\n",
            "Name: 2, dtype: float64\n",
            "0.07142857142857142 0.0857142857142857 0.06666666666666667\n",
            "Third sample: House \n"
          ]
        }
      ],
      "source": [
        "# For the third sample in the test set\n",
        "print(test[['Bathrooms','# Garages']].iloc[2])\n",
        "P_Apartment_X = (5/7)*(2/7)*(7/20)\n",
        "P_House_X= (6/7)*(2/7)*(7/20)\n",
        "P_Condo_X = (4/6)*(2/6)*(6/20)\n",
        "print(P_Apartment_X,P_House_X,P_Condo_X)\n",
        "print('Third sample: House ')"
      ]
    },
    {
      "cell_type": "code",
      "execution_count": 24,
      "metadata": {
        "colab": {
          "base_uri": "https://localhost:8080/"
        },
        "id": "ABTILStT7Uq0",
        "outputId": "e63cacdc-1421-466d-8ad5-928f012d8cf1"
      },
      "outputs": [
        {
          "output_type": "stream",
          "name": "stdout",
          "text": [
            "Bathrooms    1.5\n",
            "# Garages    1.5\n",
            "Name: 3, dtype: float64\n",
            "0.007142857142857142 0.007142857142857142 0.0\n",
            "Fourth sample: House/Apartment \n"
          ]
        }
      ],
      "source": [
        "# For the fourth sample in the test set\n",
        "print(test[['Bathrooms','# Garages']].iloc[3])\n",
        "P_Apartment_X = (1/7)*(1/7)*(7/20)\n",
        "P_House_X= (1/7)*(1/7)*(7/20)\n",
        "P_Condo_X = (1/6)*(0/6)*(6/20)\n",
        "print(P_Apartment_X,P_House_X,P_Condo_X)\n",
        "print('Fourth sample: House/Apartment ')"
      ]
    },
    {
      "cell_type": "code",
      "execution_count": 25,
      "metadata": {
        "colab": {
          "base_uri": "https://localhost:8080/"
        },
        "id": "ENdycq_17Uq1",
        "outputId": "6560164e-8849-47a0-ce40-3646d4a551ea"
      },
      "outputs": [
        {
          "output_type": "stream",
          "name": "stdout",
          "text": [
            "Bathrooms    1.5\n",
            "# Garages    2.0\n",
            "Name: 4, dtype: float64\n",
            "0.014285714285714284 0.014285714285714284 0.016666666666666666\n",
            "Fifth sample: Condo\n"
          ]
        }
      ],
      "source": [
        "# For the fifth sample in the test set\n",
        "print(test[['Bathrooms','# Garages']].iloc[4])\n",
        "P_Apartment_X = (1/7)*(2/7)*(7/20)\n",
        "P_House_X= (1/7)*(2/7)*(7/20)\n",
        "P_Condo_X = (1/6)*(2/6)*(6/20)\n",
        "print(P_Apartment_X,P_House_X,P_Condo_X)\n",
        "print('Fifth sample: Condo')"
      ]
    },
    {
      "cell_type": "markdown",
      "metadata": {
        "id": "Vsa375ES7Uq1"
      },
      "source": [
        "### Question 2"
      ]
    },
    {
      "cell_type": "code",
      "execution_count": 26,
      "metadata": {
        "id": "1GDXU04W7Uq2"
      },
      "outputs": [],
      "source": [
        "train=pd.read_excel('Asssignment4_Data.xlsx',sheet_name='Train')\n",
        "test=pd.read_excel('Asssignment4_Data.xlsx',sheet_name='Test')"
      ]
    },
    {
      "cell_type": "code",
      "execution_count": 27,
      "metadata": {
        "colab": {
          "base_uri": "https://localhost:8080/",
          "height": 268
        },
        "id": "md0mCCDq7Uq2",
        "outputId": "bd72ef23-9f10-483a-8ccb-3aa4f126c78b"
      },
      "outputs": [
        {
          "output_type": "execute_result",
          "data": {
            "text/plain": [
              "   House ID  Local Price  Bathrooms  Land Area  Living area  # Garages  \\\n",
              "0        24       6.0931        1.5     6.7265        1.652        1.0   \n",
              "1        25       8.3607        1.5     9.1500        1.777        2.0   \n",
              "2        26       8.1400        1.0     8.0000        1.504        2.0   \n",
              "3        27       9.1416        1.5     7.3262        1.831        1.5   \n",
              "4        28      12.0000        1.5     5.0000        1.200        2.0   \n",
              "\n",
              "   # Rooms  # Bedrooms  Age of home Construction type  \n",
              "0        6           3           44         Apartment  \n",
              "1        8           4           48             House  \n",
              "2        7           3            3             House  \n",
              "3        8           4           31         Apartment  \n",
              "4        6           3           30         Apartment  "
            ],
            "text/html": [
              "\n",
              "  <div id=\"df-397cadb1-fd5e-47ac-a731-008775a1244a\">\n",
              "    <div class=\"colab-df-container\">\n",
              "      <div>\n",
              "<style scoped>\n",
              "    .dataframe tbody tr th:only-of-type {\n",
              "        vertical-align: middle;\n",
              "    }\n",
              "\n",
              "    .dataframe tbody tr th {\n",
              "        vertical-align: top;\n",
              "    }\n",
              "\n",
              "    .dataframe thead th {\n",
              "        text-align: right;\n",
              "    }\n",
              "</style>\n",
              "<table border=\"1\" class=\"dataframe\">\n",
              "  <thead>\n",
              "    <tr style=\"text-align: right;\">\n",
              "      <th></th>\n",
              "      <th>House ID</th>\n",
              "      <th>Local Price</th>\n",
              "      <th>Bathrooms</th>\n",
              "      <th>Land Area</th>\n",
              "      <th>Living area</th>\n",
              "      <th># Garages</th>\n",
              "      <th># Rooms</th>\n",
              "      <th># Bedrooms</th>\n",
              "      <th>Age of home</th>\n",
              "      <th>Construction type</th>\n",
              "    </tr>\n",
              "  </thead>\n",
              "  <tbody>\n",
              "    <tr>\n",
              "      <th>0</th>\n",
              "      <td>24</td>\n",
              "      <td>6.0931</td>\n",
              "      <td>1.5</td>\n",
              "      <td>6.7265</td>\n",
              "      <td>1.652</td>\n",
              "      <td>1.0</td>\n",
              "      <td>6</td>\n",
              "      <td>3</td>\n",
              "      <td>44</td>\n",
              "      <td>Apartment</td>\n",
              "    </tr>\n",
              "    <tr>\n",
              "      <th>1</th>\n",
              "      <td>25</td>\n",
              "      <td>8.3607</td>\n",
              "      <td>1.5</td>\n",
              "      <td>9.1500</td>\n",
              "      <td>1.777</td>\n",
              "      <td>2.0</td>\n",
              "      <td>8</td>\n",
              "      <td>4</td>\n",
              "      <td>48</td>\n",
              "      <td>House</td>\n",
              "    </tr>\n",
              "    <tr>\n",
              "      <th>2</th>\n",
              "      <td>26</td>\n",
              "      <td>8.1400</td>\n",
              "      <td>1.0</td>\n",
              "      <td>8.0000</td>\n",
              "      <td>1.504</td>\n",
              "      <td>2.0</td>\n",
              "      <td>7</td>\n",
              "      <td>3</td>\n",
              "      <td>3</td>\n",
              "      <td>House</td>\n",
              "    </tr>\n",
              "    <tr>\n",
              "      <th>3</th>\n",
              "      <td>27</td>\n",
              "      <td>9.1416</td>\n",
              "      <td>1.5</td>\n",
              "      <td>7.3262</td>\n",
              "      <td>1.831</td>\n",
              "      <td>1.5</td>\n",
              "      <td>8</td>\n",
              "      <td>4</td>\n",
              "      <td>31</td>\n",
              "      <td>Apartment</td>\n",
              "    </tr>\n",
              "    <tr>\n",
              "      <th>4</th>\n",
              "      <td>28</td>\n",
              "      <td>12.0000</td>\n",
              "      <td>1.5</td>\n",
              "      <td>5.0000</td>\n",
              "      <td>1.200</td>\n",
              "      <td>2.0</td>\n",
              "      <td>6</td>\n",
              "      <td>3</td>\n",
              "      <td>30</td>\n",
              "      <td>Apartment</td>\n",
              "    </tr>\n",
              "  </tbody>\n",
              "</table>\n",
              "</div>\n",
              "      <button class=\"colab-df-convert\" onclick=\"convertToInteractive('df-397cadb1-fd5e-47ac-a731-008775a1244a')\"\n",
              "              title=\"Convert this dataframe to an interactive table.\"\n",
              "              style=\"display:none;\">\n",
              "        \n",
              "  <svg xmlns=\"http://www.w3.org/2000/svg\" height=\"24px\"viewBox=\"0 0 24 24\"\n",
              "       width=\"24px\">\n",
              "    <path d=\"M0 0h24v24H0V0z\" fill=\"none\"/>\n",
              "    <path d=\"M18.56 5.44l.94 2.06.94-2.06 2.06-.94-2.06-.94-.94-2.06-.94 2.06-2.06.94zm-11 1L8.5 8.5l.94-2.06 2.06-.94-2.06-.94L8.5 2.5l-.94 2.06-2.06.94zm10 10l.94 2.06.94-2.06 2.06-.94-2.06-.94-.94-2.06-.94 2.06-2.06.94z\"/><path d=\"M17.41 7.96l-1.37-1.37c-.4-.4-.92-.59-1.43-.59-.52 0-1.04.2-1.43.59L10.3 9.45l-7.72 7.72c-.78.78-.78 2.05 0 2.83L4 21.41c.39.39.9.59 1.41.59.51 0 1.02-.2 1.41-.59l7.78-7.78 2.81-2.81c.8-.78.8-2.07 0-2.86zM5.41 20L4 18.59l7.72-7.72 1.47 1.35L5.41 20z\"/>\n",
              "  </svg>\n",
              "      </button>\n",
              "      \n",
              "  <style>\n",
              "    .colab-df-container {\n",
              "      display:flex;\n",
              "      flex-wrap:wrap;\n",
              "      gap: 12px;\n",
              "    }\n",
              "\n",
              "    .colab-df-convert {\n",
              "      background-color: #E8F0FE;\n",
              "      border: none;\n",
              "      border-radius: 50%;\n",
              "      cursor: pointer;\n",
              "      display: none;\n",
              "      fill: #1967D2;\n",
              "      height: 32px;\n",
              "      padding: 0 0 0 0;\n",
              "      width: 32px;\n",
              "    }\n",
              "\n",
              "    .colab-df-convert:hover {\n",
              "      background-color: #E2EBFA;\n",
              "      box-shadow: 0px 1px 2px rgba(60, 64, 67, 0.3), 0px 1px 3px 1px rgba(60, 64, 67, 0.15);\n",
              "      fill: #174EA6;\n",
              "    }\n",
              "\n",
              "    [theme=dark] .colab-df-convert {\n",
              "      background-color: #3B4455;\n",
              "      fill: #D2E3FC;\n",
              "    }\n",
              "\n",
              "    [theme=dark] .colab-df-convert:hover {\n",
              "      background-color: #434B5C;\n",
              "      box-shadow: 0px 1px 3px 1px rgba(0, 0, 0, 0.15);\n",
              "      filter: drop-shadow(0px 1px 2px rgba(0, 0, 0, 0.3));\n",
              "      fill: #FFFFFF;\n",
              "    }\n",
              "  </style>\n",
              "\n",
              "      <script>\n",
              "        const buttonEl =\n",
              "          document.querySelector('#df-397cadb1-fd5e-47ac-a731-008775a1244a button.colab-df-convert');\n",
              "        buttonEl.style.display =\n",
              "          google.colab.kernel.accessAllowed ? 'block' : 'none';\n",
              "\n",
              "        async function convertToInteractive(key) {\n",
              "          const element = document.querySelector('#df-397cadb1-fd5e-47ac-a731-008775a1244a');\n",
              "          const dataTable =\n",
              "            await google.colab.kernel.invokeFunction('convertToInteractive',\n",
              "                                                     [key], {});\n",
              "          if (!dataTable) return;\n",
              "\n",
              "          const docLinkHtml = 'Like what you see? Visit the ' +\n",
              "            '<a target=\"_blank\" href=https://colab.research.google.com/notebooks/data_table.ipynb>data table notebook</a>'\n",
              "            + ' to learn more about interactive tables.';\n",
              "          element.innerHTML = '';\n",
              "          dataTable['output_type'] = 'display_data';\n",
              "          await google.colab.output.renderOutput(dataTable, element);\n",
              "          const docLink = document.createElement('div');\n",
              "          docLink.innerHTML = docLinkHtml;\n",
              "          element.appendChild(docLink);\n",
              "        }\n",
              "      </script>\n",
              "    </div>\n",
              "  </div>\n",
              "  "
            ]
          },
          "metadata": {},
          "execution_count": 27
        }
      ],
      "source": [
        "test"
      ]
    },
    {
      "cell_type": "code",
      "execution_count": 31,
      "metadata": {
        "id": "f0U6LTzS7Uq2"
      },
      "outputs": [],
      "source": [
        "# Dropping House ID since it is not a relevant feature for the classification task\n",
        "# train.drop('House ID',axis=1,inplace=True)\n",
        "X_train=train.drop('Construction type',axis=1) ## feature matrix\n",
        "y_train=train['Construction type'] # target variable\n",
        "\n",
        "# test.drop('House ID',axis=1,inplace=True)\n",
        "X_test=test.drop('Construction type',axis=1)\n",
        "y_test=test['Construction type']"
      ]
    },
    {
      "cell_type": "markdown",
      "metadata": {
        "id": "o3wB3z9M7Uq2"
      },
      "source": [
        "#### 1."
      ]
    },
    {
      "cell_type": "code",
      "execution_count": 32,
      "metadata": {
        "colab": {
          "base_uri": "https://localhost:8080/"
        },
        "id": "0uBPrG3T7Uq3",
        "outputId": "94ac9075-f93a-4246-d2ac-1d16c1b7dbe1"
      },
      "outputs": [
        {
          "output_type": "execute_result",
          "data": {
            "text/plain": [
              "DecisionTreeClassifier()"
            ]
          },
          "metadata": {},
          "execution_count": 32
        }
      ],
      "source": [
        "# Default max_depth\n",
        "model=DecisionTreeClassifier()\n",
        "model.fit(X_train,y_train)"
      ]
    },
    {
      "cell_type": "code",
      "execution_count": 33,
      "metadata": {
        "id": "hc1oZn-c7Uq3"
      },
      "outputs": [],
      "source": [
        "y_train_pred=model.predict(X_train)\n",
        "y_test_pred=model.predict(X_test)"
      ]
    },
    {
      "cell_type": "code",
      "execution_count": 34,
      "metadata": {
        "colab": {
          "base_uri": "https://localhost:8080/"
        },
        "id": "m0CYX0qG7Uq3",
        "outputId": "88cc0ebd-4d10-415f-d7bd-c4aefabdbffb"
      },
      "outputs": [
        {
          "output_type": "execute_result",
          "data": {
            "text/plain": [
              "array(['Condo', 'Condo', 'Condo', 'Apartment', 'Apartment'], dtype=object)"
            ]
          },
          "metadata": {},
          "execution_count": 34
        }
      ],
      "source": [
        "y_test_pred"
      ]
    },
    {
      "cell_type": "code",
      "execution_count": 35,
      "metadata": {
        "colab": {
          "base_uri": "https://localhost:8080/"
        },
        "id": "6bNL3Mrp7Uq4",
        "outputId": "3b43f26f-5ad3-4ba5-bc77-2553491b0ade"
      },
      "outputs": [
        {
          "output_type": "execute_result",
          "data": {
            "text/plain": [
              "array(['Apartment', 'House', 'House', 'Apartment', 'Apartment'],\n",
              "      dtype=object)"
            ]
          },
          "metadata": {},
          "execution_count": 35
        }
      ],
      "source": [
        "y_test.values"
      ]
    },
    {
      "cell_type": "code",
      "execution_count": 36,
      "metadata": {
        "colab": {
          "base_uri": "https://localhost:8080/"
        },
        "id": "m9QOqGGo7Uq4",
        "outputId": "c97b6087-fd68-43fd-9b70-fdfb7f21c9e9"
      },
      "outputs": [
        {
          "output_type": "execute_result",
          "data": {
            "text/plain": [
              "0.4"
            ]
          },
          "metadata": {},
          "execution_count": 36
        }
      ],
      "source": [
        "2/5"
      ]
    },
    {
      "cell_type": "code",
      "execution_count": 37,
      "metadata": {
        "colab": {
          "base_uri": "https://localhost:8080/"
        },
        "id": "PhlwOA8s7Uq4",
        "outputId": "506f0ed6-b98a-43d2-af4c-2fc8bf7b7d6a"
      },
      "outputs": [
        {
          "output_type": "stream",
          "name": "stdout",
          "text": [
            "Train Accuracy:  1.0\n",
            "Test Accuracy:  0.4\n"
          ]
        }
      ],
      "source": [
        "print('Train Accuracy: ',accuracy_score(y_train,y_train_pred))\n",
        "print('Test Accuracy: ',accuracy_score(y_test,y_test_pred))"
      ]
    },
    {
      "cell_type": "markdown",
      "metadata": {
        "id": "hm_sY2cM7Uq4"
      },
      "source": [
        "#### 2"
      ]
    },
    {
      "cell_type": "code",
      "execution_count": 38,
      "metadata": {
        "colab": {
          "base_uri": "https://localhost:8080/"
        },
        "id": "8wQrOKK97Uq5",
        "outputId": "17d057ab-ff83-41d6-9289-58940340d96f"
      },
      "outputs": [
        {
          "output_type": "execute_result",
          "data": {
            "text/plain": [
              "DecisionTreeClassifier(max_depth=5)"
            ]
          },
          "metadata": {},
          "execution_count": 38
        }
      ],
      "source": [
        "# Giving or setting our max_depth a value\n",
        "model=DecisionTreeClassifier(max_depth=5)\n",
        "model.fit(X_train,y_train)"
      ]
    },
    {
      "cell_type": "code",
      "execution_count": 39,
      "metadata": {
        "id": "05RRXi487Uq5"
      },
      "outputs": [],
      "source": [
        "y_train_pred=model.predict(X_train)\n",
        "y_test_pred=model.predict(X_test)"
      ]
    },
    {
      "cell_type": "code",
      "execution_count": 40,
      "metadata": {
        "colab": {
          "base_uri": "https://localhost:8080/"
        },
        "id": "hbvPrIMe7Uq5",
        "outputId": "2b067fec-5a70-4f00-ee7c-e7b0d4fa1800"
      },
      "outputs": [
        {
          "output_type": "stream",
          "name": "stdout",
          "text": [
            "Train Accuracy:  1.0\n",
            "Test Accuracy:  0.4\n"
          ]
        }
      ],
      "source": [
        "print('Train Accuracy: ',accuracy_score(y_train,y_train_pred))\n",
        "print('Test Accuracy: ',accuracy_score(y_test,y_test_pred))"
      ]
    },
    {
      "cell_type": "code",
      "source": [
        "# When we have high max_depth parameter, the model overfits. This makes the train accuracy increase\n",
        "# However the test accuracy is low\n",
        "\n",
        "# But when there is low high max_depth, the model reduces overfitting and makes both the train and test accuracy similar"
      ],
      "metadata": {
        "id": "w7J384k4_7xO"
      },
      "execution_count": 42,
      "outputs": []
    },
    {
      "cell_type": "markdown",
      "metadata": {
        "id": "M_wZ5MIr7Uq6"
      },
      "source": [
        "#### 3"
      ]
    },
    {
      "cell_type": "code",
      "source": [
        "# Restricting the depth will avoid the model to overfit. Larger depth means the model is more complex, so the train set can learn better.\n",
        "# However, it is not able to generalize well to new dataset. Like the test set"
      ],
      "metadata": {
        "id": "_qX4PaICAaGi"
      },
      "execution_count": 41,
      "outputs": []
    },
    {
      "cell_type": "markdown",
      "metadata": {
        "id": "g-LgVAf47Uq6"
      },
      "source": [
        "#### 4"
      ]
    },
    {
      "cell_type": "code",
      "execution_count": 47,
      "metadata": {
        "colab": {
          "base_uri": "https://localhost:8080/",
          "height": 466
        },
        "id": "G40I9olo7Uq6",
        "outputId": "bbb2a9b8-16a1-4fe3-eee9-b8fdc7bfac27"
      },
      "outputs": [
        {
          "output_type": "display_data",
          "data": {
            "text/plain": [
              "<Figure size 720x576 with 1 Axes>"
            ],
            "image/png": "[encoded data removed]"
          },
          "metadata": {
            "needs_background": "light"
          }
        }
      ],
      "source": [
        "plt.figure(figsize=(10,8))\n",
        "plot_tree(model, max_depth=5, feature_names=X_train.columns, class_names=list(y_train.unique()));"
      ]
    },
    {
      "cell_type": "markdown",
      "metadata": {
        "id": "ahsCN61s7Uq7"
      },
      "source": [
        "Given the features: Local Price 9.0384\n",
        "Bathrooms 1\n",
        "Land Area 7.8\n",
        "Living area 1.5\n",
        "Garages 1.5\n",
        "Rooms 7\n",
        "Bedrooms 3\n",
        "Age of home 23\n",
        "\n",
        "\n",
        "Based on the given features, that sample is an Apartment"
      ]
    },
    {
      "cell_type": "markdown",
      "metadata": {
        "id": "_vK9e44j7Uq7"
      },
      "source": [
        "We verify with the trained model, we feed the features to the model and get the prediction"
      ]
    },
    {
      "cell_type": "code",
      "execution_count": 48,
      "metadata": {
        "id": "Bd-WVpUu7Uq7"
      },
      "outputs": [],
      "source": [
        "sample=np.array([9.0384,1,7.8,1.5,1.5,7,3,23]).reshape(1,-1)"
      ]
    },
    {
      "cell_type": "code",
      "execution_count": 49,
      "metadata": {
        "colab": {
          "base_uri": "https://localhost:8080/"
        },
        "id": "QORMluhK7Uq7",
        "outputId": "7940b4de-8c0a-47fb-e0d9-719de54cb2e0"
      },
      "outputs": [
        {
          "output_type": "stream",
          "name": "stderr",
          "text": [
            "/usr/local/lib/python3.7/dist-packages/sklearn/base.py:451: UserWarning: X does not have valid feature names, but DecisionTreeClassifier was fitted with feature names\n",
            "  \"X does not have valid feature names, but\"\n"
          ]
        },
        {
          "output_type": "execute_result",
          "data": {
            "text/plain": [
              "array(['Apartment'], dtype=object)"
            ]
          },
          "metadata": {},
          "execution_count": 49
        }
      ],
      "source": [
        "model.predict(sample)"
      ]
    },
    {
      "cell_type": "markdown",
      "metadata": {
        "id": "HSUKCzPf7Uq8"
      },
      "source": [
        "### Question 3"
      ]
    },
    {
      "cell_type": "code",
      "execution_count": 50,
      "metadata": {
        "id": "GJAPdo9H7Uq8"
      },
      "outputs": [],
      "source": [
        "# scikit learn: sklearn"
      ]
    },
    {
      "cell_type": "code",
      "execution_count": 55,
      "metadata": {
        "colab": {
          "base_uri": "https://localhost:8080/"
        },
        "id": "8dYiyDgU7Uq8",
        "outputId": "c370cb23-0d63-4b28-9ae0-972f72832195"
      },
      "outputs": [
        {
          "output_type": "stream",
          "name": "stdout",
          "text": [
            "Neighbors 1,\t train accuracy 1.0, \t test accuracy 0.2 \n",
            "Neighbors 2,\t train accuracy 0.65, \t test accuracy 0.2 \n",
            "Neighbors 3,\t train accuracy 0.6, \t test accuracy 0.2 \n",
            "Neighbors 4,\t train accuracy 0.65, \t test accuracy 0.2 \n",
            "Neighbors 5,\t train accuracy 0.6, \t test accuracy 0.2 \n",
            "Neighbors 10,\t train accuracy 0.55, \t test accuracy 0.4 \n",
            "Neighbors 20,\t train accuracy 0.35, \t test accuracy 0.6 \n"
          ]
        }
      ],
      "source": [
        "neighbors=[1,2,3,4,5,10,20]\n",
        "test_accuracies=[]\n",
        "train_accuracies=[]\n",
        "for k in neighbors:\n",
        "    model=KNeighborsClassifier(n_neighbors=k)\n",
        "    model.fit(X_train,y_train)\n",
        "    y_test_pred2=model.predict(X_test)\n",
        "    y_train_pred2=model.predict(X_train)\n",
        "    print(f'Neighbors {k},\\t train accuracy {accuracy_score(y_train,y_train_pred2)}, \\t test accuracy {accuracy_score(y_test,y_test_pred2)} ')\n",
        "    test_accuracies.append(accuracy_score(y_test,y_test_pred2))\n",
        "    train_accuracies.append(accuracy_score(y_train,y_train_pred2))"
      ]
    },
    {
      "cell_type": "markdown",
      "metadata": {
        "id": "2LAKfq6A7Uq9"
      },
      "source": [
        "When we use a small number of neighbors, we see tha the test accuracy is very low and it does not perform better even with 5 neighbors. With small number of neighbors we can clearly see the model overfits and as we increase such number, the train accuracy reduces and it outputs a very low train accuracy with a large number of neighbors.\n",
        "When we make the number of neighbors higher, like 10 or 20, we can see a better test accuracy, however the train accuracy is very low. The model underfits"
      ]
    },
    {
      "cell_type": "code",
      "execution_count": 56,
      "metadata": {
        "colab": {
          "base_uri": "https://localhost:8080/",
          "height": 296
        },
        "id": "3FtGy31d7Uq9",
        "outputId": "114becf2-b124-4334-e6b4-a4e17f8774c3"
      },
      "outputs": [
        {
          "output_type": "execute_result",
          "data": {
            "text/plain": [
              "Text(0, 0.5, 'Accuracy')"
            ]
          },
          "metadata": {},
          "execution_count": 56
        },
        {
          "output_type": "display_data",
          "data": {
            "text/plain": [
              "<Figure size 432x288 with 1 Axes>"
            ],
            "image/png": "[encoded data removed]"
          },
          "metadata": {
            "needs_background": "light"
          }
        }
      ],
      "source": [
        "plt.plot(neighbors, test_accuracies,marker='x',label='Test Acc')\n",
        "plt.plot(neighbors, train_accuracies,marker='x',label='Train Acc')\n",
        "plt.legend()\n",
        "plt.xlabel('Neighbors')\n",
        "plt.ylabel('Accuracy')\n"
      ]
    },
    {
      "cell_type": "markdown",
      "metadata": {
        "id": "xeRkRMyx7Uq9"
      },
      "source": [
        "#### Implementation from scratch"
      ]
    },
    {
      "cell_type": "code",
      "execution_count": 57,
      "metadata": {
        "id": "Wl_aDG2x7Uq-"
      },
      "outputs": [],
      "source": [
        "def KNN(X_train,y_train,X_test,k):\n",
        "    y_test_pred=[]\n",
        "    for ii,sample in X_test.iterrows():\n",
        "        euc_distances=np.sqrt(np.sum((X_train.values-sample.values)**2,axis=1))\n",
        "        index_closest=euc_distances.argsort()[:k]\n",
        "        print(Counter(y_train.values[index_closest]).most_common())\n",
        "        output=Counter(y_train.values[index_closest]).most_common()[0][0]\n",
        "        y_test_pred.append(output)\n",
        "        \n",
        "    return np.array(y_test_pred)"
      ]
    },
    {
      "cell_type": "code",
      "execution_count": 58,
      "metadata": {
        "colab": {
          "base_uri": "https://localhost:8080/"
        },
        "id": "swekpRDj7Uq-",
        "outputId": "6f68594a-95a0-4d6c-f9c0-44a2b13933ae"
      },
      "outputs": [
        {
          "output_type": "stream",
          "name": "stdout",
          "text": [
            "[('Apartment', 1)]\n",
            "[('Apartment', 1)]\n",
            "[('Apartment', 1)]\n",
            "[('Condo', 1)]\n",
            "[('House', 1)]\n",
            "Neighbors 1, \t test accuracy 0.2 \n",
            "[('Apartment', 2)]\n",
            "[('Apartment', 1), ('Condo', 1)]\n",
            "[('Apartment', 1), ('Condo', 1)]\n",
            "[('Condo', 1), ('House', 1)]\n",
            "[('House', 1), ('Condo', 1)]\n",
            "Neighbors 2, \t test accuracy 0.2 \n",
            "[('Apartment', 3)]\n",
            "[('Apartment', 2), ('Condo', 1)]\n",
            "[('Apartment', 1), ('Condo', 1), ('House', 1)]\n",
            "[('House', 2), ('Condo', 1)]\n",
            "[('House', 2), ('Condo', 1)]\n",
            "Neighbors 3, \t test accuracy 0.2 \n",
            "[('Apartment', 3), ('Condo', 1)]\n",
            "[('Apartment', 3), ('Condo', 1)]\n",
            "[('Apartment', 2), ('Condo', 1), ('House', 1)]\n",
            "[('House', 3), ('Condo', 1)]\n",
            "[('House', 3), ('Condo', 1)]\n",
            "Neighbors 4, \t test accuracy 0.2 \n",
            "[('Apartment', 4), ('Condo', 1)]\n",
            "[('Apartment', 4), ('Condo', 1)]\n",
            "[('Apartment', 2), ('House', 2), ('Condo', 1)]\n",
            "[('House', 4), ('Condo', 1)]\n",
            "[('House', 3), ('Condo', 1), ('Apartment', 1)]\n",
            "Neighbors 5, \t test accuracy 0.2 \n",
            "[('Apartment', 5), ('Condo', 4), ('House', 1)]\n",
            "[('Apartment', 5), ('Condo', 4), ('House', 1)]\n",
            "[('House', 6), ('Apartment', 2), ('Condo', 2)]\n",
            "[('House', 6), ('Condo', 2), ('Apartment', 2)]\n",
            "[('House', 6), ('Condo', 3), ('Apartment', 1)]\n",
            "Neighbors 10, \t test accuracy 0.4 \n",
            "[('Apartment', 7), ('House', 7), ('Condo', 6)]\n",
            "[('Apartment', 7), ('House', 7), ('Condo', 6)]\n",
            "[('Apartment', 7), ('House', 7), ('Condo', 6)]\n",
            "[('House', 7), ('Apartment', 7), ('Condo', 6)]\n",
            "[('House', 7), ('Apartment', 7), ('Condo', 6)]\n",
            "Neighbors 20, \t test accuracy 0.2 \n"
          ]
        }
      ],
      "source": [
        "neighbors=[1,2,3,4,5,10,20]\n",
        "test_accuracies=[]\n",
        "train_accuracies=[]\n",
        "for k in neighbors:\n",
        "    y_test_pred3=KNN(X_train,y_train,X_test,k=k)\n",
        "    print(f'Neighbors {k}, \\t test accuracy {accuracy_score(y_test,y_test_pred3)} ')"
      ]
    },
    {
      "cell_type": "markdown",
      "metadata": {
        "id": "uwO2uSL_7Uq_"
      },
      "source": [
        "For k=20, both House and Appartment have the same number of close neighbors, it will randomly select one, that is why the accuracy differs from the previous implementation"
      ]
    }
  ],
  "metadata": {
    "kernelspec": {
      "display_name": "Python 3",
      "language": "python",
      "name": "python3"
    },
    "language_info": {
      "codemirror_mode": {
        "name": "ipython",
        "version": 3
      },
      "file_extension": ".py",
      "mimetype": "text/x-python",
      "name": "python",
      "nbconvert_exporter": "python",
      "pygments_lexer": "ipython3",
      "version": "3.7.6"
    },
    "colab": {
      "provenance": []
    }
  },
  "nbformat": 4,
  "nbformat_minor": 0
}